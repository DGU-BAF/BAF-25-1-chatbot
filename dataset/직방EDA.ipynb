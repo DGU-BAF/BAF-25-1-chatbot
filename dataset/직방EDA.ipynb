{
 "cells": [
  {
   "cell_type": "code",
   "execution_count": null,
   "metadata": {},
   "outputs": [],
   "source": [
    "import pandas as pd \n",
    "import koreanize_matplotlib\n",
    "import matplotlib.pyplot as plt\n",
    "import seaborn as sns"
   ]
  },
  {
   "cell_type": "code",
   "execution_count": 2,
   "metadata": {},
   "outputs": [
    {
     "data": {
      "text/plain": [
       "'c:\\\\Users\\\\foma\\\\Desktop\\\\jjuwar\\\\비어플\\\\2025-겨울 스터디_챗봇\\\\2025-1 프로젝트_챗봇'"
      ]
     },
     "execution_count": 2,
     "metadata": {},
     "output_type": "execute_result"
    }
   ],
   "source": [
    "import os\n",
    "os.getcwd()"
   ]
  },
  {
   "cell_type": "code",
   "execution_count": 3,
   "metadata": {},
   "outputs": [],
   "source": [
    "# 출력 시 모든 열이 보이도록 설정\n",
    "pd.set_option('display.max_columns', None)"
   ]
  },
  {
   "cell_type": "code",
   "execution_count": 4,
   "metadata": {},
   "outputs": [],
   "source": [
    "Zicbang = pd.read_csv('./직방데이터셋.csv', encoding = 'cp949')"
   ]
  },
  {
   "cell_type": "code",
   "execution_count": 6,
   "metadata": {},
   "outputs": [],
   "source": [
    "df = Zicbang.copy()"
   ]
  },
  {
   "cell_type": "code",
   "execution_count": 44,
   "metadata": {},
   "outputs": [
    {
     "data": {
      "text/plain": [
       "(2303, 32)"
      ]
     },
     "execution_count": 44,
     "metadata": {},
     "output_type": "execute_result"
    }
   ],
   "source": [
    "df.shape"
   ]
  },
  {
   "cell_type": "code",
   "execution_count": 45,
   "metadata": {},
   "outputs": [
    {
     "data": {
      "text/html": [
       "<div>\n",
       "<style scoped>\n",
       "    .dataframe tbody tr th:only-of-type {\n",
       "        vertical-align: middle;\n",
       "    }\n",
       "\n",
       "    .dataframe tbody tr th {\n",
       "        vertical-align: top;\n",
       "    }\n",
       "\n",
       "    .dataframe thead th {\n",
       "        text-align: right;\n",
       "    }\n",
       "</style>\n",
       "<table border=\"1\" class=\"dataframe\">\n",
       "  <thead>\n",
       "    <tr style=\"text-align: right;\">\n",
       "      <th></th>\n",
       "      <th>매물ID</th>\n",
       "      <th>거래유형</th>\n",
       "      <th>방종류</th>\n",
       "      <th>룸타입</th>\n",
       "      <th>제목</th>\n",
       "      <th>설명</th>\n",
       "      <th>보증금(만원)</th>\n",
       "      <th>월세(만원)</th>\n",
       "      <th>관리비(만원)</th>\n",
       "      <th>전용면적(m²)</th>\n",
       "      <th>층수</th>\n",
       "      <th>총층수</th>\n",
       "      <th>욕실수</th>\n",
       "      <th>방향</th>\n",
       "      <th>입주가능일</th>\n",
       "      <th>승강기</th>\n",
       "      <th>주차여부</th>\n",
       "      <th>주소(법정동)</th>\n",
       "      <th>지번주소</th>\n",
       "      <th>위도</th>\n",
       "      <th>경도</th>\n",
       "      <th>옵션</th>\n",
       "      <th>상태</th>\n",
       "      <th>조회수</th>\n",
       "      <th>등록일</th>\n",
       "      <th>수정일</th>\n",
       "      <th>건물유형</th>\n",
       "      <th>도보거리_m</th>\n",
       "      <th>도보시간_분</th>\n",
       "      <th>매물_동입</th>\n",
       "      <th>매물_충무로</th>\n",
       "      <th>기준역</th>\n",
       "    </tr>\n",
       "  </thead>\n",
       "  <tbody>\n",
       "    <tr>\n",
       "      <th>0</th>\n",
       "      <td>40306674</td>\n",
       "      <td>월세</td>\n",
       "      <td>원룸</td>\n",
       "      <td>분리형원룸</td>\n",
       "      <td>주차O, 공간 활용도 좋은 깔끔한 주방분리형 원룸, 즉시 입주 가능</td>\n",
       "      <td>?? 매물 정보 ??\\n- 주방이 분리된 원룸으로 조리 시 음식냄새 걱정 없습니다....</td>\n",
       "      <td>1000</td>\n",
       "      <td>46</td>\n",
       "      <td>0.0</td>\n",
       "      <td>16.50</td>\n",
       "      <td>반지하</td>\n",
       "      <td>3</td>\n",
       "      <td>1</td>\n",
       "      <td>NW</td>\n",
       "      <td>즉시 입주 가능</td>\n",
       "      <td>False</td>\n",
       "      <td>주차 가능</td>\n",
       "      <td>서울시 강북구 미아동</td>\n",
       "      <td>강북구 미아동 307-76</td>\n",
       "      <td>37.623966</td>\n",
       "      <td>127.022695</td>\n",
       "      <td>에어컨, 냉장고, 세탁기, 인덕션, 전자레인지, 싱크대</td>\n",
       "      <td>open</td>\n",
       "      <td>0</td>\n",
       "      <td>2017.02.23</td>\n",
       "      <td>2025/02/10 19:40</td>\n",
       "      <td>다중주택</td>\n",
       "      <td>566.0</td>\n",
       "      <td>7</td>\n",
       "      <td>29</td>\n",
       "      <td>26</td>\n",
       "      <td>미아역</td>\n",
       "    </tr>\n",
       "    <tr>\n",
       "      <th>1</th>\n",
       "      <td>41744227</td>\n",
       "      <td>월세</td>\n",
       "      <td>원룸</td>\n",
       "      <td>분리형원룸</td>\n",
       "      <td>아늑하고 깔끔한 분리형 원룸, 즉시 입주 가능, 주차 가능, 풀옵션 완비</td>\n",
       "      <td>?? 이 집의 특징 ??\\n- 분리형 원룸으로 공간 활용이 좋습니다.\\n- 싱크대,...</td>\n",
       "      <td>5000</td>\n",
       "      <td>160</td>\n",
       "      <td>8.0</td>\n",
       "      <td>29.72</td>\n",
       "      <td>4</td>\n",
       "      <td>5</td>\n",
       "      <td>1</td>\n",
       "      <td>NW</td>\n",
       "      <td>즉시 입주 가능</td>\n",
       "      <td>True</td>\n",
       "      <td>주차 가능</td>\n",
       "      <td>서울시 서초구 방배동</td>\n",
       "      <td>서초구 방배동 437-22</td>\n",
       "      <td>37.482251</td>\n",
       "      <td>126.983535</td>\n",
       "      <td>에어컨, 냉장고, 세탁기, 인덕션, 신발장, 싱크대</td>\n",
       "      <td>open</td>\n",
       "      <td>0</td>\n",
       "      <td>2021.08.20</td>\n",
       "      <td>2024/12/27 12:00</td>\n",
       "      <td>다세대주택</td>\n",
       "      <td>651.0</td>\n",
       "      <td>11</td>\n",
       "      <td>35</td>\n",
       "      <td>32</td>\n",
       "      <td>총신대입구(이수)역</td>\n",
       "    </tr>\n",
       "  </tbody>\n",
       "</table>\n",
       "</div>"
      ],
      "text/plain": [
       "       매물ID 거래유형 방종류    룸타입                                        제목  \\\n",
       "0  40306674   월세  원룸  분리형원룸    주차O, 공간 활용도 좋은 깔끔한 주방분리형 원룸, 즉시 입주 가능    \n",
       "1  41744227   월세  원룸  분리형원룸  아늑하고 깔끔한 분리형 원룸, 즉시 입주 가능, 주차 가능, 풀옵션 완비   \n",
       "\n",
       "                                                  설명  보증금(만원)  월세(만원)  \\\n",
       "0  ?? 매물 정보 ??\\n- 주방이 분리된 원룸으로 조리 시 음식냄새 걱정 없습니다....     1000      46   \n",
       "1  ?? 이 집의 특징 ??\\n- 분리형 원룸으로 공간 활용이 좋습니다.\\n- 싱크대,...     5000     160   \n",
       "\n",
       "   관리비(만원)  전용면적(m²)   층수  총층수  욕실수  방향     입주가능일    승강기   주차여부      주소(법정동)  \\\n",
       "0      0.0     16.50  반지하    3    1  NW  즉시 입주 가능  False  주차 가능  서울시 강북구 미아동   \n",
       "1      8.0     29.72    4    5    1  NW  즉시 입주 가능   True  주차 가능  서울시 서초구 방배동   \n",
       "\n",
       "             지번주소         위도          경도                              옵션  \\\n",
       "0  강북구 미아동 307-76  37.623966  127.022695  에어컨, 냉장고, 세탁기, 인덕션, 전자레인지, 싱크대   \n",
       "1  서초구 방배동 437-22  37.482251  126.983535    에어컨, 냉장고, 세탁기, 인덕션, 신발장, 싱크대   \n",
       "\n",
       "     상태  조회수         등록일               수정일   건물유형  도보거리_m  도보시간_분 매물_동입  \\\n",
       "0  open    0  2017.02.23  2025/02/10 19:40   다중주택   566.0       7    29   \n",
       "1  open    0  2021.08.20  2024/12/27 12:00  다세대주택   651.0      11    35   \n",
       "\n",
       "   매물_충무로         기준역  \n",
       "0      26         미아역  \n",
       "1      32  총신대입구(이수)역  "
      ]
     },
     "execution_count": 45,
     "metadata": {},
     "output_type": "execute_result"
    }
   ],
   "source": [
    "df.head(2)"
   ]
  },
  {
   "cell_type": "code",
   "execution_count": 46,
   "metadata": {},
   "outputs": [],
   "source": [
    "df2 = df.iloc[:, -8:]"
   ]
  },
  {
   "cell_type": "code",
   "execution_count": 47,
   "metadata": {},
   "outputs": [
    {
     "data": {
      "text/html": [
       "<div>\n",
       "<style scoped>\n",
       "    .dataframe tbody tr th:only-of-type {\n",
       "        vertical-align: middle;\n",
       "    }\n",
       "\n",
       "    .dataframe tbody tr th {\n",
       "        vertical-align: top;\n",
       "    }\n",
       "\n",
       "    .dataframe thead th {\n",
       "        text-align: right;\n",
       "    }\n",
       "</style>\n",
       "<table border=\"1\" class=\"dataframe\">\n",
       "  <thead>\n",
       "    <tr style=\"text-align: right;\">\n",
       "      <th></th>\n",
       "      <th>등록일</th>\n",
       "      <th>수정일</th>\n",
       "      <th>건물유형</th>\n",
       "      <th>도보거리_m</th>\n",
       "      <th>도보시간_분</th>\n",
       "      <th>매물_동입</th>\n",
       "      <th>매물_충무로</th>\n",
       "      <th>기준역</th>\n",
       "    </tr>\n",
       "  </thead>\n",
       "  <tbody>\n",
       "    <tr>\n",
       "      <th>0</th>\n",
       "      <td>2017.02.23</td>\n",
       "      <td>2025/02/10 19:40</td>\n",
       "      <td>다중주택</td>\n",
       "      <td>566.0</td>\n",
       "      <td>7</td>\n",
       "      <td>29</td>\n",
       "      <td>26</td>\n",
       "      <td>미아역</td>\n",
       "    </tr>\n",
       "    <tr>\n",
       "      <th>1</th>\n",
       "      <td>2021.08.20</td>\n",
       "      <td>2024/12/27 12:00</td>\n",
       "      <td>다세대주택</td>\n",
       "      <td>651.0</td>\n",
       "      <td>11</td>\n",
       "      <td>35</td>\n",
       "      <td>32</td>\n",
       "      <td>총신대입구(이수)역</td>\n",
       "    </tr>\n",
       "    <tr>\n",
       "      <th>2</th>\n",
       "      <td>1987.07.08</td>\n",
       "      <td>2024/12/27 15:47</td>\n",
       "      <td>단독주택</td>\n",
       "      <td>955.0</td>\n",
       "      <td>12</td>\n",
       "      <td>34</td>\n",
       "      <td>31</td>\n",
       "      <td>연신내역</td>\n",
       "    </tr>\n",
       "    <tr>\n",
       "      <th>3</th>\n",
       "      <td>2018.12.24</td>\n",
       "      <td>2025/01/02 10:56</td>\n",
       "      <td>다가구주택</td>\n",
       "      <td>638.0</td>\n",
       "      <td>9</td>\n",
       "      <td>33</td>\n",
       "      <td>30</td>\n",
       "      <td>수유역</td>\n",
       "    </tr>\n",
       "    <tr>\n",
       "      <th>4</th>\n",
       "      <td>2011.08.31</td>\n",
       "      <td>2024/12/30 14:16</td>\n",
       "      <td>고시원</td>\n",
       "      <td>426.0</td>\n",
       "      <td>6</td>\n",
       "      <td>28</td>\n",
       "      <td>25</td>\n",
       "      <td>연신내역</td>\n",
       "    </tr>\n",
       "    <tr>\n",
       "      <th>...</th>\n",
       "      <td>...</td>\n",
       "      <td>...</td>\n",
       "      <td>...</td>\n",
       "      <td>...</td>\n",
       "      <td>...</td>\n",
       "      <td>...</td>\n",
       "      <td>...</td>\n",
       "      <td>...</td>\n",
       "    </tr>\n",
       "    <tr>\n",
       "      <th>2298</th>\n",
       "      <td>2016-02-12</td>\n",
       "      <td>2025/03/26 14:07</td>\n",
       "      <td>단독주택</td>\n",
       "      <td>NaN</td>\n",
       "      <td>10</td>\n",
       "      <td>33</td>\n",
       "      <td>31</td>\n",
       "      <td>안암역</td>\n",
       "    </tr>\n",
       "    <tr>\n",
       "      <th>2299</th>\n",
       "      <td>2023.01</td>\n",
       "      <td>2025/03/26 14:11</td>\n",
       "      <td>도시형생활주택</td>\n",
       "      <td>544.0</td>\n",
       "      <td>8</td>\n",
       "      <td>11</td>\n",
       "      <td>8</td>\n",
       "      <td>충무로역</td>\n",
       "    </tr>\n",
       "    <tr>\n",
       "      <th>2300</th>\n",
       "      <td>1990-12-28</td>\n",
       "      <td>2025/03/26 14:22</td>\n",
       "      <td>주택 및 근린생활시설</td>\n",
       "      <td>322.0</td>\n",
       "      <td>4</td>\n",
       "      <td>26</td>\n",
       "      <td>23</td>\n",
       "      <td>연신내역</td>\n",
       "    </tr>\n",
       "    <tr>\n",
       "      <th>2301</th>\n",
       "      <td>2023.01.27</td>\n",
       "      <td>2025/03/26 14:25</td>\n",
       "      <td>오피스텔</td>\n",
       "      <td>946.0</td>\n",
       "      <td>13</td>\n",
       "      <td>17</td>\n",
       "      <td>14</td>\n",
       "      <td>을지로3가역</td>\n",
       "    </tr>\n",
       "    <tr>\n",
       "      <th>2302</th>\n",
       "      <td>1993-03-23</td>\n",
       "      <td>2025/03/26 14:27</td>\n",
       "      <td>다세대주택</td>\n",
       "      <td>851.0</td>\n",
       "      <td>12</td>\n",
       "      <td>12</td>\n",
       "      <td>15</td>\n",
       "      <td>동대입구역</td>\n",
       "    </tr>\n",
       "  </tbody>\n",
       "</table>\n",
       "<p>2303 rows × 8 columns</p>\n",
       "</div>"
      ],
      "text/plain": [
       "             등록일               수정일         건물유형  도보거리_m  도보시간_분 매물_동입  매물_충무로  \\\n",
       "0     2017.02.23  2025/02/10 19:40         다중주택   566.0       7    29      26   \n",
       "1     2021.08.20  2024/12/27 12:00        다세대주택   651.0      11    35      32   \n",
       "2     1987.07.08  2024/12/27 15:47         단독주택   955.0      12    34      31   \n",
       "3     2018.12.24  2025/01/02 10:56        다가구주택   638.0       9    33      30   \n",
       "4     2011.08.31  2024/12/30 14:16          고시원   426.0       6    28      25   \n",
       "...          ...               ...          ...     ...     ...   ...     ...   \n",
       "2298  2016-02-12  2025/03/26 14:07         단독주택     NaN      10    33      31   \n",
       "2299     2023.01  2025/03/26 14:11      도시형생활주택   544.0       8    11       8   \n",
       "2300  1990-12-28  2025/03/26 14:22  주택 및 근린생활시설   322.0       4    26      23   \n",
       "2301  2023.01.27  2025/03/26 14:25         오피스텔   946.0      13    17      14   \n",
       "2302  1993-03-23  2025/03/26 14:27        다세대주택   851.0      12    12      15   \n",
       "\n",
       "             기준역  \n",
       "0            미아역  \n",
       "1     총신대입구(이수)역  \n",
       "2           연신내역  \n",
       "3            수유역  \n",
       "4           연신내역  \n",
       "...          ...  \n",
       "2298         안암역  \n",
       "2299        충무로역  \n",
       "2300        연신내역  \n",
       "2301      을지로3가역  \n",
       "2302       동대입구역  \n",
       "\n",
       "[2303 rows x 8 columns]"
      ]
     },
     "execution_count": 47,
     "metadata": {},
     "output_type": "execute_result"
    }
   ],
   "source": [
    "df2"
   ]
  },
  {
   "cell_type": "code",
   "execution_count": 48,
   "metadata": {},
   "outputs": [
    {
     "name": "stdout",
     "output_type": "stream",
     "text": [
      "<class 'pandas.core.frame.DataFrame'>\n",
      "RangeIndex: 2303 entries, 0 to 2302\n",
      "Data columns (total 8 columns):\n",
      " #   Column  Non-Null Count  Dtype  \n",
      "---  ------  --------------  -----  \n",
      " 0   등록일     2302 non-null   object \n",
      " 1   수정일     2303 non-null   object \n",
      " 2   건물유형    2303 non-null   object \n",
      " 3   도보거리_m  1897 non-null   float64\n",
      " 4   도보시간_분  2303 non-null   int64  \n",
      " 5   매물_동입   2303 non-null   object \n",
      " 6   매물_충무로  2303 non-null   int64  \n",
      " 7   기준역     2302 non-null   object \n",
      "dtypes: float64(1), int64(2), object(5)\n",
      "memory usage: 144.1+ KB\n"
     ]
    }
   ],
   "source": [
    "df2_info = df2.info()"
   ]
  },
  {
   "cell_type": "code",
   "execution_count": 49,
   "metadata": {},
   "outputs": [
    {
     "data": {
      "text/plain": [
       "등록일         1\n",
       "수정일         0\n",
       "건물유형        0\n",
       "도보거리_m    406\n",
       "도보시간_분      0\n",
       "매물_동입       0\n",
       "매물_충무로      0\n",
       "기준역         1\n",
       "dtype: int64"
      ]
     },
     "execution_count": 49,
     "metadata": {},
     "output_type": "execute_result"
    }
   ],
   "source": [
    "df2.isnull().sum()"
   ]
  },
  {
   "cell_type": "code",
   "execution_count": null,
   "metadata": {},
   "outputs": [
    {
     "data": {
      "image/png": "[encoded data removed]",
      "text/plain": [
       "<Figure size 500x300 with 1 Axes>"
      ]
     },
     "metadata": {},
     "output_type": "display_data"
    },
    {
     "data": {
      "image/png": "[encoded data removed]",
      "text/plain": [
       "<Figure size 500x300 with 1 Axes>"
      ]
     },
     "metadata": {},
     "output_type": "display_data"
    },
    {
     "name": "stderr",
     "output_type": "stream",
     "text": [
      "C:\\Users\\foma\\AppData\\Local\\Temp\\ipykernel_18024\\3291346390.py:29: FutureWarning: \n",
      "\n",
      "Passing `palette` without assigning `hue` is deprecated and will be removed in v0.14.0. Assign the `x` variable to `hue` and set `legend=False` for the same effect.\n",
      "\n",
      "  sns.countplot(data=df, x='방종류', order=df['방종류'].value_counts().index, palette='pastel')\n"
     ]
    },
    {
     "data": {
      "image/png": "[encoded data removed]",
      "text/plain": [
       "<Figure size 400x400 with 1 Axes>"
      ]
     },
     "metadata": {},
     "output_type": "display_data"
    }
   ],
   "source": [
    "\n",
    "# 1. 보증금 분포\n",
    "plt.figure(figsize=(5, 3))\n",
    "sns.histplot(df['보증금(만원)'], bins=40, kde=True, color='skyblue')\n",
    "plt.title(\"보증금(만원) 분포\")\n",
    "plt.xlabel(\"보증금(만원)\")\n",
    "plt.ylabel(\"매물 수\")\n",
    "plt.grid(True)\n",
    "plt.tight_layout()\n",
    "plt.show()\n",
    "\n",
    "# 2. 월세 분포\n",
    "plt.figure(figsize=(5, 3))\n",
    "sns.histplot(df['월세(만원)'], bins=40, kde=True, color='salmon')\n",
    "plt.title(\"월세(만원) 분포\")\n",
    "plt.xlabel(\"월세(만원)\")\n",
    "plt.ylabel(\"매물 수\")\n",
    "plt.grid(True)\n",
    "plt.tight_layout()\n",
    "plt.show()\n",
    "\n",
    "# 3. 방종류 개수 시각화\n",
    "plt.figure(figsize=(4, 4))\n",
    "sns.countplot(data=df, x='방종류', order=df['방종류'].value_counts().index, palette='pastel')\n",
    "plt.title(\"방종류별 매물 수\")\n",
    "plt.xlabel(\"방종류\")\n",
    "plt.ylabel(\"매물 수\")\n",
    "plt.tight_layout()\n",
    "plt.show()\n"
   ]
  },
  {
   "cell_type": "code",
   "execution_count": 18,
   "metadata": {},
   "outputs": [
    {
     "data": {
      "text/plain": [
       "방종류\n",
       "원룸      1543\n",
       "오피스텔     760\n",
       "Name: count, dtype: int64"
      ]
     },
     "execution_count": 18,
     "metadata": {},
     "output_type": "execute_result"
    }
   ],
   "source": [
    "df['방종류'].value_counts()"
   ]
  }
 ],
 "metadata": {
  "kernelspec": {
   "display_name": "Python 3",
   "language": "python",
   "name": "python3"
  },
  "language_info": {
   "codemirror_mode": {
    "name": "ipython",
    "version": 3
   },
   "file_extension": ".py",
   "mimetype": "text/x-python",
   "name": "python",
   "nbconvert_exporter": "python",
   "pygments_lexer": "ipython3",
   "version": "3.11.11"
  }
 },
 "nbformat": 4,
 "nbformat_minor": 2
}
